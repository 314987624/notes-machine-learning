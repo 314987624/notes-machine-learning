{
 "cells": [
  {
   "cell_type": "markdown",
   "metadata": {},
   "source": [
    "# 机器学习笔记\n",
    "\n",
    "## 简介\n",
    "\n",
    "> 作者：李金 <br>\n",
    "> 版本：0.0.1<br>\n",
    "> 邮件：lijinwithyou@gmail.com\n",
    "\n",
    "机器学习笔记，使用 `ipython notebook (jupyter notebook)` 进行展示。\n",
    "\n",
    "----\n",
    "\n",
    "## 参考资料和文献：\n",
    "\n",
    "[1] Christopher, M. Bishop. \"Pattern recognition and machine learning.\" Company New York 16.4 (2006): 049901.\n",
    "\n",
    "----\n",
    "\n",
    "## 目录\n",
    "\n",
    "第一部分来自 `Bishop` 的经典书籍 `Pattern recognition and machine learning`。\n",
    "\n",
    "### 第一部分 PRML 笔记\n",
    "\n",
    "- [1. 简介](Chap-01-Introduction)\n",
    "    - [1.1 例子：多项式拟合](Chap-01-Introduction/01-01-Example-Polynomial-Curve-Fitting.ipynb)\n",
    "    - [1.2 概率论](Chap-01-Introduction/01-02-Probability-Theory.ipynb)\n",
    "        - [1.2.1 概率密度函数](Chap-01-Introduction/01-02-Probability-Theory.ipynb)\n",
    "        - [1.2.2 期望和方差](Chap-01-Introduction/01-02-Probability-Theory.ipynb)\n",
    "        - [1.2.3 Bayes 概率](Chap-01-Introduction/01-02-Probability-Theory.ipynb)\n",
    "        - [1.2.4 高斯分布](Chap-01-Introduction/01-02-Probability-Theory.ipynb)\n",
    "        - [1.2.5 重新理解曲线拟合](Chap-01-Introduction/01-02-Probability-Theory.ipynb)\n",
    "        - [1.2.6 Bayes 曲线拟合](Chap-01-Introduction/01-02-Probability-Theory.ipynb)\n",
    "    - [1.3 模型选择](Chap-01-Introduction/01-03-Model-Selection.ipynb)\n",
    "    - [1.4 维数灾难](Chap-01-Introduction/01-04-The-Curse-of-Dimensionality.ipynb)\n",
    "    - [1.5 决策理论](Chap-01-Introduction/01-05-Decision-Theory.ipynb)\n",
    "        - [1.5.1 最小错误率决策](Chap-01-Introduction/01-05-Decision-Theory.ipynb)\n",
    "        - [1.5.2 最小损失决策](Chap-01-Introduction/01-05-Decision-Theory.ipynb)"
   ]
  }
 ],
 "metadata": {
  "kernelspec": {
   "display_name": "Python 2",
   "language": "python",
   "name": "python2"
  },
  "language_info": {
   "codemirror_mode": {
    "name": "ipython",
    "version": 2
   },
   "file_extension": ".py",
   "mimetype": "text/x-python",
   "name": "python",
   "nbconvert_exporter": "python",
   "pygments_lexer": "ipython2",
   "version": "2.7.6"
  }
 },
 "nbformat": 4,
 "nbformat_minor": 0
}
