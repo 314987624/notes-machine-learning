{
 "cells": [
  {
   "cell_type": "markdown",
   "metadata": {},
   "source": [
    "# 机器学习笔记\n",
    "\n",
    "## 简介\n",
    "\n",
    "> 作者：李金 <br>\n",
    "> 版本：0.0.1<br>\n",
    "> 邮件：lijinwithyou@gmail.com\n",
    "\n",
    "机器学习笔记，使用 `jupyter notebook (ipython notebook)` 进行展示。\n",
    "\n",
    "`Github` 加载 `.ipynb` 的速度较慢，建议在 [Nbviewer](http://nbviewer.jupyter.org/github/lijin-THU/notes-machine-learning/blob/master/ReadMe.ipynb) 中查看该项目。\n",
    "\n",
    "----\n",
    "\n",
    "## 目录\n",
    "\n",
    "第一部分来自 `Bishop` 的经典书籍 `Pattern Recognition and Machine Learning`。\n",
    "\n",
    "第二部分来自 `Bengio` 的最新数据 `Deep Learning`。\n",
    "\n",
    "### 第一部分 PRML 笔记\n",
    "\n",
    "- [1. 简介](Pattern-Recognition-and-Machine-Learning/Chap-01-Introduction)\n",
    "    - [1.1. 例子：多项式拟合](Pattern-Recognition-and-Machine-Learning/Chap-01-Introduction/01-01-Example-Polynomial-Curve-Fitting.ipynb)\n",
    "    - [1.2. 概率论](Pattern-Recognition-and-Machine-Learning/Chap-01-Introduction/01-02-Probability-Theory.ipynb)\n",
    "        - [1.2.1. 概率密度函数](Pattern-Recognition-and-Machine-Learning/Chap-01-Introduction/01-02-Probability-Theory.ipynb)\n",
    "        - [1.2.2. 期望和方差](Pattern-Recognition-and-Machine-Learning/Chap-01-Introduction/01-02-Probability-Theory.ipynb)\n",
    "        - [1.2.3. Bayes 概率](Pattern-Recognition-and-Machine-Learning/Chap-01-Introduction/01-02-Probability-Theory.ipynb)\n",
    "        - [1.2.4. 高斯分布](Pattern-Recognition-and-Machine-Learning/Chap-01-Introduction/01-02-Probability-Theory.ipynb)\n",
    "        - [1.2.5. 重新理解曲线拟合](Pattern-Recognition-and-Machine-Learning/Chap-01-Introduction/01-02-Probability-Theory.ipynb)\n",
    "        - [1.2.6. Bayes 曲线拟合](Pattern-Recognition-and-Machine-Learning/Chap-01-Introduction/01-02-Probability-Theory.ipynb)\n",
    "    - [1.3. 模型选择](Pattern-Recognition-and-Machine-Learning/Chap-01-Introduction/01-03-Model-Selection.ipynb)\n",
    "    - [1.4. 维数灾难](Pattern-Recognition-and-Machine-Learning/Chap-01-Introduction/01-04-The-Curse-of-Dimensionality.ipynb)\n",
    "    - [1.5. 决策理论](Pattern-Recognition-and-Machine-Learning/Chap-01-Introduction/01-05-Decision-Theory.ipynb)\n",
    "        - [1.5.1. 最小错误率决策](Pattern-Recognition-and-Machine-Learning/Chap-01-Introduction/01-05-Decision-Theory.ipynb)\n",
    "        - [1.5.2. 最小风险决策](Pattern-Recognition-and-Machine-Learning/Chap-01-Introduction/01-05-Decision-Theory.ipynb)\n",
    "        - [1.5.3. 拒绝选项](Pattern-Recognition-and-Machine-Learning/Chap-01-Introduction/01-05-Decision-Theory.ipynb)\n",
    "        - [1.5.4. 推断和决策](Pattern-Recognition-and-Machine-Learning/Chap-01-Introduction/01-05-Decision-Theory.ipynb)\n",
    "        - [1.5.5. 回归问题的损失函数](Pattern-Recognition-and-Machine-Learning/Chap-01-Introduction/01-05-Decision-Theory.ipynb)\n",
    "    - [附录 D 变分法](Pattern-Recognition-and-Machine-Learning/Appendix/Appendix-D-Calculus-of-Variations.ipynb)\n",
    "    - [1.6. 信息论](Pattern-Recognition-and-Machine-Learning/Chap-01-Introduction/01-06-Information-Theory.ipynb)\n",
    "        - [1.6.1. 相对熵和互信息](Pattern-Recognition-and-Machine-Learning/Chap-01-Introduction/01-06-Information-Theory.ipynb)\n",
    "    - [附录 E Lagrange 乘子](Pattern-Recognition-and-Machine-Learning/Appendix/Appendix-E-Lagrange-Multipliers.ipynb)\n",
    "- [2. 概率分布](PRML/Chap-02-Probability-Distributions)\n",
    "    - [2.1. 二元变量](PRML/Chap-02-Probability-Distributions/02-01-Binary-Variables.ipynb)\n",
    "        - [2.1.1 Beta 分布](Pattern-Recognition-and-Machine-Learning/Chap-02-Probability-Distributions/02-01-Binary-Variables.ipynb)\n",
    "    - [2.2. 多元变量](Pattern-Recognition-and-Machine-Learning/Chap-02-Probability-Distributions/02-02-Multinomial-Variables.ipynb)\n",
    "        - [2.2.1. 狄利克雷分布](Pattern-Recognition-and-Machine-Learning/Chap-02-Probability-Distributions/02-02-Multinomial-Variables.ipynb)\n",
    "    - [2.3. 高斯分布](Pattern-Recognition-and-Machine-Learning/Chap-02-Probability-Distributions/02-03-The-Gaussian-Distribution.ipynb)\n",
    "        - [2.3.1. 条件高斯分布](Pattern-Recognition-and-Machine-Learning/Chap-02-Probability-Distributions/02-03-The-Gaussian-Distribution.ipynb)\n",
    "    \n",
    "### 第二部分 DP 笔记\n",
    "\n"
   ]
  },
  {
   "cell_type": "markdown",
   "metadata": {
    "collapsed": true
   },
   "source": [
    "----\n",
    "\n",
    "## 参考资料和文献：\n",
    "\n",
    "[1] Christopher, M. Bishop. \"Pattern recognition and machine learning.\" Company New York 16.4 (2006): 049901.\n",
    "\n",
    "[2] Bengio Y, Goodfellow I J, Courville A. Deep learning[J]. An MIT Press book in preparation. Draft chapters available at http//www.iro.umontreal.ca/∼bengioy/dlbook, 2015."
   ]
  }
 ],
 "metadata": {
  "kernelspec": {
   "display_name": "Python 2",
   "language": "python",
   "name": "python2"
  },
  "language_info": {
   "codemirror_mode": {
    "name": "ipython",
    "version": 2
   },
   "file_extension": ".py",
   "mimetype": "text/x-python",
   "name": "python",
   "nbconvert_exporter": "python",
   "pygments_lexer": "ipython2",
   "version": "2.7.6"
  }
 },
 "nbformat": 4,
 "nbformat_minor": 0
}
