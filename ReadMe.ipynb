{
 "cells": [
  {
   "cell_type": "markdown",
   "metadata": {},
   "source": [
    "# 机器学习笔记\n",
    "\n",
    "## 简介\n",
    "\n",
    "> 作者：李金 <br>\n",
    "> 版本：0.0.1<br>\n",
    "> 邮件：lijinwithyou@gmail.com\n",
    "\n",
    "机器学习笔记，使用 `jupyter notebook (ipython notebook)` 进行展示。\n",
    "\n",
    "`Github` 加载 `.ipynb` 的速度较慢，建议在 [Nbviewer](http://nbviewer.jupyter.org/github/lijin-THU/notes-machine-learning/blob/master/ReadMe.ipynb) 中查看该项目。\n",
    "\n",
    "----\n",
    "\n",
    "## 目录\n",
    "\n",
    "第一部分来自 `Bishop` 的经典书籍 `Pattern recognition and machine learning`。\n",
    "\n",
    "### 第一部分 PRML 笔记\n",
    "\n",
    "- [1. 简介](Chap-01-Introduction)\n",
    "    - [1.1. 例子：多项式拟合](Chap-01-Introduction/01-01-Example-Polynomial-Curve-Fitting.ipynb)\n",
    "    - [1.2. 概率论](Chap-01-Introduction/01-02-Probability-Theory.ipynb)\n",
    "        - [1.2.1. 概率密度函数](Chap-01-Introduction/01-02-Probability-Theory.ipynb)\n",
    "        - [1.2.2. 期望和方差](Chap-01-Introduction/01-02-Probability-Theory.ipynb)\n",
    "        - [1.2.3. Bayes 概率](Chap-01-Introduction/01-02-Probability-Theory.ipynb)\n",
    "        - [1.2.4. 高斯分布](Chap-01-Introduction/01-02-Probability-Theory.ipynb)\n",
    "        - [1.2.5. 重新理解曲线拟合](Chap-01-Introduction/01-02-Probability-Theory.ipynb)\n",
    "        - [1.2.6. Bayes 曲线拟合](Chap-01-Introduction/01-02-Probability-Theory.ipynb)\n",
    "    - [1.3. 模型选择](Chap-01-Introduction/01-03-Model-Selection.ipynb)\n",
    "    - [1.4. 维数灾难](Chap-01-Introduction/01-04-The-Curse-of-Dimensionality.ipynb)\n",
    "    - [1.5. 决策理论](Chap-01-Introduction/01-05-Decision-Theory.ipynb)\n",
    "        - [1.5.1. 最小错误率决策](Chap-01-Introduction/01-05-Decision-Theory.ipynb)\n",
    "        - [1.5.2. 最小风险决策](Chap-01-Introduction/01-05-Decision-Theory.ipynb)\n",
    "        - [1.5.3. 拒绝选项](Chap-01-Introduction/01-05-Decision-Theory.ipynb)\n",
    "        - [1.5.4. 推断和决策](Chap-01-Introduction/01-05-Decision-Theory.ipynb)\n",
    "        - [1.5.5. 回归问题的损失函数](Chap-01-Introduction/01-05-Decision-Theory.ipynb)\n",
    "    - [附录 D 变分法](Appendix/Appendix-D-Calculus-of-Variations.ipynb)\n",
    "    - [1.6. 信息论](Chap-01-Introduction/01-06-Information-Theory.ipynb)\n",
    "        - [1.6.1. 相对熵和互信息](Chap-01-Introduction/01-06-Information-Theory.ipynb)\n",
    "    - [附录 E Lagrange 乘子](Appendix/Appendix-E-Lagrange-Multipliers.ipynb)\n",
    "- [2. 概率分布](Chap-02-Probability-Distributions)\n",
    "    - [2.1. 二元变量](Chap-02-Probability-Distributions/02-01-Binary-Variables.ipynb)\n",
    "        - [2.1.1 Beta 分布](Chap-02-Probability-Distributions/02-01-Binary-Variables.ipynb)\n",
    "    - [2.2. 多元变量](Chap-02-Probability-Distributions/02-02-Multinomial-Variables.ipynb)\n",
    "        - [2.2.1. 狄利克雷分布](Chap-02-Probability-Distributions/02-02-Multinomial-Variables.ipynb)"
   ]
  },
  {
   "cell_type": "markdown",
   "metadata": {
    "collapsed": true
   },
   "source": [
    "----\n",
    "\n",
    "## 参考资料和文献：\n",
    "\n",
    "[1] Christopher, M. Bishop. \"Pattern recognition and machine learning.\" Company New York 16.4 (2006): 049901."
   ]
  }
 ],
 "metadata": {
  "kernelspec": {
   "display_name": "Python 2",
   "language": "python",
   "name": "python2"
  },
  "language_info": {
   "codemirror_mode": {
    "name": "ipython",
    "version": 2
   },
   "file_extension": ".py",
   "mimetype": "text/x-python",
   "name": "python",
   "nbconvert_exporter": "python",
   "pygments_lexer": "ipython2",
   "version": "2.7.6"
  }
 },
 "nbformat": 4,
 "nbformat_minor": 0
}
