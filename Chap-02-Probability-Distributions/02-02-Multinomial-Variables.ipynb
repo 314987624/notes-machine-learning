{
 "cells": [
  {
   "cell_type": "markdown",
   "metadata": {},
   "source": [
    "# 2.2 多元变量"
   ]
  },
  {
   "cell_type": "markdown",
   "metadata": {},
   "source": [
    "现在考虑有 $K$ 个状态的问题。\n",
    "\n",
    "我们用一个 $K$ 维的向量 $(x_1, \\dots, x_K)$ 来表示这些状态，第 $k$ 个状态用 $x_k = 1, x_j=0, \\forall j \\neq k$ 表示。\n",
    "\n",
    "例如 $\\mathbf x=(0,0,1,0,0,0)^\\text{T}$ 表示 $K = 6$ 的第 $3$ 个状态。\n",
    "\n",
    "这些向量都满足 $\\sum_{k=1}^K x_k = 1$。\n",
    "\n",
    "假设 $x_k=1$ 的概率为 $\\mu_k$，则 $x$ 的分布为：\n",
    "\n",
    "$$\n",
    "p(\\mathbf x~|~\\mathbf\\mu)=\\prod_{k=1}^K \\mu_k^{x_k}\n",
    "$$\n",
    "\n",
    "其中 $\\mathbf\\mu=(\\mu_1, \\dots, \\mu_K)^\\text{T}$，且满足 $\\mu_k \\geq 0, \\sum_j \\mu_k = 1$。\n",
    "\n",
    "这可以看成是伯努利分布的一般化表示。为了验证它是概率分布，我们有\n",
    "\n",
    "$$\n",
    "\\sum_\\mathbf{x} p(\\mathbf x~|~\\mathbf\\mu) = \\sum_{k=1}^K \\mu_k = 1\n",
    "$$\n",
    "\n",
    "均值为\n",
    "\n",
    "$$\n",
    "\\mathbb E[\\mathbf{x|\\mu}] = \\sum_\\mathbf{x} \\mathbf{x} p(\\mathbf x~|~\\mathbf\\mu) =(\\mu_1, \\dots, \\mu_K)^\\text{T} = \\mathbf\\mu\n",
    "$$"
   ]
  },
  {
   "cell_type": "markdown",
   "metadata": {},
   "source": [
    "### 最大似然估计"
   ]
  },
  {
   "cell_type": "markdown",
   "metadata": {},
   "source": [
    "考虑一组 i.i.d. 的观测数据 $\\mathbf D=(\\mathbf x_1, \\dots, \\mathbf x_N)$，其似然函数为\n",
    "\n",
    "$$\n",
    "p(\\mathcal D|\\mathbf\\mu) = \\prod_{n=1}^N \\prod_{k=1}^K \\mu_k^{x_{nk}} = \\prod_{k=1}^K \\mu_k^{\\left(\\sum_n x_{nk}\\right)} = \\prod_{k=1}^K \\mu_k^{m_k}\n",
    "$$\n",
    "\n",
    "其中 \n",
    "\n",
    "$$\n",
    "m_k =\\sum_n x_{nk} \n",
    "$$\n",
    "\n",
    "表示出现 $x_k=1$ 的次数，这些也是这个分布的充分统计量。\n",
    "\n",
    "在 $\\sum_{k=1}^K \\mu_k = 1$ 的约束条件下，为了最大化对数似然，我们考虑它的拉格朗日函数：\n",
    "\n",
    "$$\n",
    "\\sum_{k=1}^K m_k\\ln \\mu_k + \\lambda (\\sum_{k=1}^K \\mu_k - 1)\n",
    "$$\n",
    "\n",
    "对 $\\mu_k$ 的偏导设为 $0$，有：\n",
    "\n",
    "$$\n",
    "\\mu_k = - \\frac{m_k}{\\lambda}\n",
    "$$\n",
    "\n",
    "带入约束条件得到：\n",
    "\n",
    "$$\n",
    "\\mu_k^{\\text{ML}} = \\frac{m_k}{N}\n",
    "$$\n",
    "\n",
    "即 $x_k=1$ 在观测数据中所占的比例。\n",
    "\n",
    "如果只考虑 $m_1,\\dots,m_K$，那么我们可以定义多项分布（`multinomial distribution`）：\n",
    "\n",
    "$$\n",
    "\\text{Mult}(m_1, m_2,\\dots,m_k|\\mathbf\\mu, N) = \\begin{pmatrix} N \\\\ m_1m_2\\dots m_k\\end{pmatrix} \\prod_{k=1}^K \\mu_k^{m_k}\n",
    "$$\n",
    "\n",
    "其中：\n",
    "\n",
    "$$\n",
    "\\begin{pmatrix} N \\\\ m_1m_2\\dots m_k\\end{pmatrix} \\equiv \\frac{N!}{m_1!m_2!\\dotsm_K!}\n",
    "$$\n",
    "\n",
    "以及\n",
    "\n",
    "$$\n",
    "N = \\sum_{k=1}^K m_k\n",
    "$$"
   ]
  },
  {
   "cell_type": "markdown",
   "metadata": {},
   "source": [
    "## 2.2.1 狄利克里分布"
   ]
  },
  {
   "cell_type": "markdown",
   "metadata": {},
   "source": [
    "与二元分布类似，我们要给多元分布引入一个先验分布。考虑多元分布的形式，先验分布应该满足：\n",
    "\n",
    "$$\n",
    "p(\\mathbf{\\mu|\\alpha}) \\propto \\mu_k^{\\alpha_k-1}\n",
    "$$"
   ]
  },
  {
   "cell_type": "code",
   "execution_count": null,
   "metadata": {
    "collapsed": true
   },
   "outputs": [],
   "source": []
  },
  {
   "cell_type": "code",
   "execution_count": null,
   "metadata": {
    "collapsed": true
   },
   "outputs": [],
   "source": []
  },
  {
   "cell_type": "code",
   "execution_count": null,
   "metadata": {
    "collapsed": true
   },
   "outputs": [],
   "source": []
  }
 ],
 "metadata": {
  "kernelspec": {
   "display_name": "Python 2",
   "language": "python",
   "name": "python2"
  },
  "language_info": {
   "codemirror_mode": {
    "name": "ipython",
    "version": 2
   },
   "file_extension": ".py",
   "mimetype": "text/x-python",
   "name": "python",
   "nbconvert_exporter": "python",
   "pygments_lexer": "ipython2",
   "version": "2.7.6"
  }
 },
 "nbformat": 4,
 "nbformat_minor": 0
}
