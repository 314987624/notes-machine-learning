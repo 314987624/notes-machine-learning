{
 "cells": [
  {
   "cell_type": "markdown",
   "metadata": {},
   "source": [
    "# 2.3 高斯分布"
   ]
  },
  {
   "cell_type": "markdown",
   "metadata": {
    "collapsed": true
   },
   "source": [
    "高斯分布，又叫正态分布，是连续变量经常使用的一个分布模型，一维的高斯分布如下：\n",
    "\n",
    "$$\n",
    "\\mathcal{N}\\left(x\\left|~\\mu,\\sigma^2\\right.\\right) = \\frac{1}{(2\\pi\\sigma^2)^{1/2}} \\exp\\left\\{-\\frac{1}{2\\sigma^2}(x-\\mu)^2\\right\\}\n",
    "$$\n",
    "\n",
    "其中 $\\mu$ 是均值，$\\sigma$ 是方差。\n",
    "\n",
    "$D$-维的高斯分布如下：\n",
    "\n",
    "$$\n",
    "\\mathcal{N}\\left(\\mathbf x\\left|~\\mathbf{\\mu, \\Sigma}\\right.\\right) = \\frac{1}{(2\\pi)^{D/2}} \\frac{1}{|\\mathbf\\Sigma|^{1/2}} \\exp \\left\\{-\\frac{1}{2}(\\mathbf x - \\mathbf \\mu)^{\\text T}\\mathbf\\Sigma^{-1}(\\mathbf x - \\mathbf \\mu)\\right\\}\n",
    "$$\n",
    "\n",
    "其中，$D$ 维向量 $\\mathbf \\mu$ 是均值，$D\\times D$ 矩阵 $\\mathbf\\Sigma$ 是方差，$|\\mathbf\\Sigma|$ 是其行列式。\n",
    "\n",
    "之前我们已经看到，在均值和方差固定时，高斯函数是熵最大的连续分布。\n",
    "\n",
    "对于某个分布一组样本 $x_1, \\dots, x_N$，他们的均值 $(x_1+\\dots+x_N)/N$ 的分布会随着 $N$ 的增大而越来越接近一个高斯分布。"
   ]
  },
  {
   "cell_type": "markdown",
   "metadata": {
    "collapsed": true
   },
   "source": [
    "### 高斯分布的性质"
   ]
  },
  {
   "cell_type": "markdown",
   "metadata": {},
   "source": [
    "考虑高斯分布的结构中跟 $\\mathbf x$ 有关的这个二次型：\n",
    "\n",
    "$$\n",
    "\\Delta^2 = (\\mathbf x - \\mathbf \\mu)^{\\text T}\\mathbf\\Sigma^{-1}(\\mathbf x - \\mathbf \\mu)\n",
    "$$\n",
    "\n",
    "这里的 $\\Delta$ 叫做 $\\mathbf \\mu$ 和 $\\mathbf x$ 的马氏距离（Mahalanobis distance），当 $\\mathbf \\Sigma$ 是单位矩阵的时候为欧氏距离。\n",
    "\n",
    "在 $\\Delta^2$ 相等的地方，高斯分布的概率密度也相等。\n",
    "\n",
    "不失一般性，我们只需要考虑 $\\mathbf\\Sigma$ 是对称的情况。\n",
    "\n",
    "事实上，如果 $\\mathbf\\Sigma$ 不对称，考虑其逆矩阵 $\\mathbf\\Lambda$，它总可以写成一个对称矩阵和反对称矩阵的形式：\n",
    "\n",
    "$$\\mathbf\\Lambda = \\mathbf\\Lambda^S + \\mathbf\\Lambda^A =\\frac{\\mathbf\\Lambda + \\mathbf\\Lambda^{\\text T}}{2} + \\frac{\\mathbf\\Lambda - \\mathbf\\Lambda^\\text{T}}{2}$$\n",
    "\n",
    "而这个反对称的矩阵的对角线均为 0，从而它的二次型为 $0$ 因此，我们有：\n",
    "\n",
    "$$\n",
    "(\\mathbf x - \\mathbf \\mu)^{\\text T}\\mathbf\\Lambda(\\mathbf x - \\mathbf \\mu) = (\\mathbf x - \\mathbf \\mu)^{\\text T}\\mathbf\\Lambda^S(\\mathbf x - \\mathbf \\mu)\n",
    "$$\n",
    "\n",
    "所以 $\\mathbf\\Lambda$ 可以等价于 $\\mathbf\\Lambda^S$，而对称矩阵的逆矩阵也是对称的，因此 只需要考虑 $\\mathbf\\Sigma$ 是对称的情况。\n",
    "\n",
    "对于实对称矩阵，可以找到一组正交的特征向量使得：\n",
    "\n",
    "$$\n",
    "\\mathbf{\\Sigma u}_i = \\lambda_i \\lambda_i\\geq=0 \\mathbf u_i, \\mathbf u_i^\\text{T}\\mathbf u_j = I_{ij}， i,j=1,\\dots,D, \n",
    "$$\n",
    "\n",
    "其中 $I_{ij}$ 表示单位矩阵的第 $i$ 行 $j$ 列的元素：\n",
    "\n",
    "$$\n",
    "I_{ij} = \\left\\{\\begin{align}\n",
    "1, &~i=j \\\\ 0, &~i \\neq j\n",
    "\\end{align}\\right.\n",
    "$$\n",
    "\n",
    "从而 $\\mathbf\\Sigma$ 可以表示为\n",
    "\n",
    "$$\n",
    "\\mathbf\\Sigma = \\sum_{i=1}^D \\lambda_i \\mathbf u_i\\mathbf u_i^T = \\mathbf{U\\Lambda U}^\\text{T}\n",
    "$$\n",
    "\n",
    "其中 $\\Lambda =\\text{diag}(\\lambda_1, \\dots,\\lambda_D)$ 为对角阵，$\\mathbf U$ 是 $u_1,\\dots,u_D$ 按列拼成的正交矩阵 $\\mathbf U^\\text{T}\\mathbf U = \\mathbf U\\mathbf U^\\text{T} = \\mathbf I$。\n",
    "\n",
    "由正交性：\n",
    "\n",
    "$$\n",
    "\\mathbf\\Sigma^{-1} = (\\mathbf{U\\Lambda U}^\\text{T})^{-1} = (\\mathbf U^{\\text T})^{-1}\\mathbf\\Lambda^{-1} \\mathbf U^{-1} = \\mathbf U \\mathbf\\Lambda^{-1} \\mathbf U^{\\text T} = \\sum_{i=1}^D \\frac{1}{\\lambda_i} \\mathbf u_i\\mathbf u_i^T \n",
    "$$\n",
    "\n",
    "令 $y_i=\\mathbf u_i^\\text{T} (\\mathbf{x-\\mu})$，则\n",
    "\n",
    "$$\n",
    "\\Delta^2 = \\sum_{i=1}^D \\frac{y_i^2}{\\lambda_i}\n",
    "$$\n",
    "\n",
    "写成向量形式：\n",
    "\n",
    "$$\n",
    "\\mathbf y = \\mathbf{U}^\\text{T}\\mathbf{(x-\\mu)}\n",
    "$$\n",
    "\n",
    "因此，马氏距离相当于将 $\\mathbf{x-\\mu} 在 $\\mathbf u_i$ 方向上作了一个大小为 $\\lambda_i^{1/2}$ 的尺度变换。"
   ]
  },
  {
   "cell_type": "code",
   "execution_count": null,
   "metadata": {
    "collapsed": true
   },
   "outputs": [],
   "source": []
  }
 ],
 "metadata": {
  "kernelspec": {
   "display_name": "Python 2",
   "language": "python",
   "name": "python2"
  },
  "language_info": {
   "codemirror_mode": {
    "name": "ipython",
    "version": 2
   },
   "file_extension": ".py",
   "mimetype": "text/x-python",
   "name": "python",
   "nbconvert_exporter": "python",
   "pygments_lexer": "ipython2",
   "version": "2.7.6"
  }
 },
 "nbformat": 4,
 "nbformat_minor": 0
}
