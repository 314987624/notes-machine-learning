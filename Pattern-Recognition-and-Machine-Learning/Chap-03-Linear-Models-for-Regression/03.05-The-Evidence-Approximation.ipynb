{
 "cells": [
  {
   "cell_type": "markdown",
   "metadata": {},
   "source": [
    "# 3.5 Evidence 的近似"
   ]
  },
  {
   "cell_type": "markdown",
   "metadata": {},
   "source": [
    "在3.3节中，从贝叶斯的角度出发，在线性基模型中，我们引入先验参数 $\\alpha,\\beta$，预测值的分布为：\n",
    "\n",
    "$$\n",
    "p(t|\\mathsf t)=\\iiint p(t|\\mathbf w,\\beta)p(\\mathbf w|\\mathsf t, \\alpha, \\beta) p(\\alpha,\\beta|\\mathsf t) d\\mathbf wd\\alpha d\\beta\n",
    "$$\n",
    "\n",
    "这里，我们忽略了输入 $\\mathbf x$ 让表达更简洁。\n",
    "\n",
    "假设后验分布 $p(\\alpha,\\beta|\\mathsf t)$ 是在 $(\\hat\\alpha,\\hat\\beta)$ 处的锐锋分布，那么我们有：\n",
    "\n",
    "$$\n",
    "p(t|\\mathsf t) \\simeq p(t|\\mathsf t, \\hat\\alpha,\\hat\\beta)=\\int p(t|\\mathbf w,\\hat\\beta)p(\\mathbf w|\\mathsf t, \\hat\\alpha, \\hat\\beta) d\\mathbf w\n",
    "$$\n",
    "\n",
    "由贝叶斯公式，我们有：\n",
    "\n",
    "$$\n",
    "p(\\alpha,\\beta|\\mathsf t) \\propto p(\\mathsf t|\\alpha,\\beta) p(\\alpha,\\beta)\n",
    "$$\n",
    "\n",
    "如果 $\\alpha, \\beta$ 的先验是均匀的，那么 $\\hat\\alpha,\\hat\\beta$ 的值可以通过最大化\n",
    "$p(\\mathsf t|\\alpha,\\beta)$ 来得到。"
   ]
  },
  {
   "cell_type": "markdown",
   "metadata": {},
   "source": [
    "## 3.5.1 计算 evidence"
   ]
  },
  {
   "cell_type": "markdown",
   "metadata": {},
   "source": [
    "边际似然 $p(\\mathsf t|\\alpha,\\beta)$ 可以通过对 $\\mathbf w$ 的积分得到：\n",
    "\n",
    "$$\n",
    "p(\\mathsf t|\\alpha,\\beta)=\\int p(\\mathsf t|\\mathbf w,\\beta)p(\\mathbf w|\\alpha) d\\mathbf w\n",
    "$$"
   ]
  },
  {
   "cell_type": "code",
   "execution_count": null,
   "metadata": {
    "collapsed": true
   },
   "outputs": [],
   "source": []
  },
  {
   "cell_type": "code",
   "execution_count": null,
   "metadata": {
    "collapsed": true
   },
   "outputs": [],
   "source": []
  }
 ],
 "metadata": {
  "kernelspec": {
   "display_name": "Python 2",
   "language": "python",
   "name": "python2"
  },
  "language_info": {
   "codemirror_mode": {
    "name": "ipython",
    "version": 2
   },
   "file_extension": ".py",
   "mimetype": "text/x-python",
   "name": "python",
   "nbconvert_exporter": "python",
   "pygments_lexer": "ipython2",
   "version": "2.7.11"
  }
 },
 "nbformat": 4,
 "nbformat_minor": 0
}
