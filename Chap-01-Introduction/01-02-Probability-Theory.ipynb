{
 "cells": [
  {
   "cell_type": "markdown",
   "metadata": {},
   "source": [
    "# 1.2 概率论"
   ]
  },
  {
   "cell_type": "markdown",
   "metadata": {},
   "source": [
    "加法率：\n",
    "$$\n",
    "P(X) = \\sum_Y P(X,Y)\n",
    "$$\n",
    "\n",
    "乘法率：\n",
    "$$\n",
    "P(X,Y)=P(Y|X)P(X)=P(Y,X)=P(X|Y)P(Y)\n",
    "$$\n",
    "\n",
    "由乘法率可得 `Bayes` 公式：\n",
    "$$\n",
    "P(Y|X)=\\frac{P(X|Y)P(Y)}{P(X)}\n",
    "$$\n",
    "\n",
    "再由加法率和乘法率，`Bayes` 公式的分母可以写成：\n",
    "$$\n",
    "P(X) = \\sum_Y P(X,Y) = \\sum_Y P(X|Y)P(Y)\n",
    "$$\n",
    "\n",
    "所以 `Bayes` 公式的分母可以看成是一个归一化项，使得条件概率 $P(Y|X)$ 对所有的 $Y$ 求和之后和为 `1`。\n",
    "\n",
    "如果\n",
    "$$\n",
    "P(X,Y)=P(X)P(Y)\n",
    "$$\n",
    "那么 $X, Y$ 是独立的。"
   ]
  },
  {
   "cell_type": "markdown",
   "metadata": {},
   "source": [
    "## 1.2.1 概率密度函数"
   ]
  },
  {
   "cell_type": "markdown",
   "metadata": {},
   "source": [
    "### 概率密度函数"
   ]
  },
  {
   "cell_type": "markdown",
   "metadata": {},
   "source": [
    "对于实值变量 $x$，概率密度函数（probability density function） $p(x)$ 定义为：当$\\delta x>0, \\delta x\\rightarrow 0$ 时，变量 $x$ 落在区间 $(x,x+\\delta x)$ 范围内的概率为 $p(x)\\delta x$。\n",
    "\n",
    "$x$ 落在任意区间 $(a,b)$ 的概率为：\n",
    "$$\n",
    "P(x\\in (a,b)) = \\int_{a}^b p(x) dx \n",
    "$$\n",
    "\n",
    "对于概率密度函数，它需要满足两个条件：\n",
    "$$\n",
    "\\begin{align}\n",
    "p(x)&\\geq 0 \\\\\n",
    "\\int_{-\\infty}^\\infty p(x) dx&=1\n",
    "\\end{align}\n",
    "$$\n",
    "\n",
    "对于随机变量间这样的一个变换 $x=g(y)$，设 $x,y$ 的概率密度函数分别为 $p_x(x)$ 和 $p_y(y)$，那么 $x$ 落在 $(x, x+\\delta x)$ 可以对应于 $y$ 落在 $(y, y+\\delta y)$ 的情况，并有 $p_x(x)\\delta x\\simeq p_y(y)\\delta y$，从而：\n",
    "$$\n",
    "p_y(y)=p_x(x)\\left|\\frac{dy}{dx}\\right|=p_x(g(y))\\left|g'(y)\\right|\n",
    "$$"
   ]
  },
  {
   "cell_type": "markdown",
   "metadata": {},
   "source": [
    "### 累积分布函数"
   ]
  },
  {
   "cell_type": "markdown",
   "metadata": {},
   "source": [
    "累积分布函数（cumulative distribution function）定义为：\n",
    "$$\n",
    "P(z)=\\int_{-\\infty}^zp(x) dx\n",
    "$$\n",
    "\n",
    "满足：\n",
    "$$\n",
    "P'(x) = p(x)\n",
    "$$"
   ]
  },
  {
   "cell_type": "markdown",
   "metadata": {},
   "source": [
    "### 联合概率密度分布"
   ]
  },
  {
   "cell_type": "markdown",
   "metadata": {},
   "source": [
    "对于多个变量 $x_1, \\dots, x_D$（用 $\\mathbf x$ 表示），定义联合概率密度为 $p(\\mathbf x)=p(x_1,\\dots,x_D)$，满足当 $\\mathbf x$ 落在一个包含 $\\mathbf x$ 的足够小的空间体积 $\\delta \\mathbf x$ 中时，其概率为 $p(\\mathbf x)\\delta \\mathbf x$。\n",
    "\n",
    "它也需要满足：\n",
    "$$\n",
    "\\begin{align}\n",
    "p(\\mathbf x)&\\geq 0 \\\\\n",
    "\\int p(\\mathbf x) dx&=1\n",
    "\\end{align}\n",
    "$$\n",
    "\n",
    "其中积分是对整个空间进行积分。\n",
    "\n",
    "对于概率密度函数，我们的加法法则乘法法则仍然适用：\n",
    "\n",
    "$$\n",
    "\\begin{align}\n",
    "p(x) & = \\int p(x,y) dy \\\\\n",
    "p(x,y) & = p(y|x)p(x)\n",
    "\\end{align}\n",
    "$$"
   ]
  },
  {
   "cell_type": "markdown",
   "metadata": {},
   "source": [
    "### 概率质量函数"
   ]
  },
  {
   "cell_type": "markdown",
   "metadata": {},
   "source": [
    "对于离散的 $x$ 我们有时候将概率密度函数叫做概率质量函数，因为它的质量相当于集中在了某个允许的 $x$ 上。"
   ]
  },
  {
   "cell_type": "markdown",
   "metadata": {},
   "source": [
    "## 1.2.2 期望和方差"
   ]
  },
  {
   "cell_type": "markdown",
   "metadata": {},
   "source": [
    "### 期望"
   ]
  },
  {
   "cell_type": "markdown",
   "metadata": {},
   "source": [
    "函数 $f(x)$ 在概率密度函数 $p(x)$ 下的均值叫做 $f(x)$ 的期望。\n",
    "\n",
    "离散分布下，定义为：\n",
    "$$\\mathbb E[f] = \\sum_x p(x) f(x)$$\n",
    "\n",
    "连续分布下，定义为：\n",
    "$$\n",
    "\\mathbb E[f] = \\int p(x) f(x) dx\n",
    "$$\n",
    "\n",
    "如果给定了 $N$ 个从 $p(x)$ 中随机抽样的点，那么期望可以近似为\n",
    "$$\n",
    "\\mathbb E[f] \\simeq \\frac 1 N \\sum_{n=1}^N f(x_n)\n",
    "$$\n",
    "\n",
    "当 $N\\rightarrow \\infty$ 是，等式成立。\n",
    "\n",
    "有时候我们考虑一个多元函数的期望，例如 $\\mathbb E_x[f(x,y)]$ 是函数 $f(x,y)$ 在概率密度上"
   ]
  },
  {
   "cell_type": "markdown",
   "metadata": {},
   "source": []
  },
  {
   "cell_type": "markdown",
   "metadata": {},
   "source": []
  }
 ],
 "metadata": {
  "kernelspec": {
   "display_name": "Python 2",
   "language": "python",
   "name": "python2"
  },
  "language_info": {
   "codemirror_mode": {
    "name": "ipython",
    "version": 2
   },
   "file_extension": ".py",
   "mimetype": "text/x-python",
   "name": "python",
   "nbconvert_exporter": "python",
   "pygments_lexer": "ipython2",
   "version": "2.7.11"
  }
 },
 "nbformat": 4,
 "nbformat_minor": 0
}
